{
 "cells": [
  {
   "cell_type": "code",
   "execution_count": 1,
   "metadata": {},
   "outputs": [],
   "source": [
    "import pandas as pd\n",
    "import numpy as np\n",
    "import random\n",
    "import scipy\n",
    "import scipy as sp\n",
    "import scipy.stats as sts\n",
    "import matplotlib.pyplot as plt\n",
    "import statsmodels.api as sm\n",
    "import statsmodels\n",
    "from sklearn.utils import resample\n",
    "\n",
    "%matplotlib inline\n",
    "\n",
    "random.seed(42)"
   ]
  },
  {
   "cell_type": "markdown",
   "metadata": {
    "id": "50IIxLyU-ltW"
   },
   "source": [
    "##  A/B тестирование"
   ]
  },
  {
   "cell_type": "markdown",
   "metadata": {},
   "source": [
    "**Задание **\n",
    "\n",
    "Провести аналогичные исследования но для чека покупок клиентов (колонки `revenue`)  \n",
    "в интернет магазине есть 2-ва типа продуктов:\n",
    "* 100 руб.\n",
    "* 250 руб.\n",
    "\n",
    "ну и конечно клиент может ничего не купить  \n",
    "провести исследование изменился ли средний чек"
   ]
  },
  {
   "cell_type": "markdown",
   "metadata": {
    "id": "rQ4Gzr9o-ltX"
   },
   "source": [
    " <a id='eda'></a>\n",
    "### Первичный анализ данных"
   ]
  },
  {
   "cell_type": "code",
   "execution_count": 2,
   "metadata": {
    "colab": {
     "base_uri": "https://localhost:8080/",
     "height": 204
    },
    "id": "WmrvOCGt-ltX",
    "outputId": "ba6c4690-59e0-4944-d2e8-5e0d97fcc53f"
   },
   "outputs": [
    {
     "data": {
      "text/html": [
       "<div>\n",
       "<style scoped>\n",
       "    .dataframe tbody tr th:only-of-type {\n",
       "        vertical-align: middle;\n",
       "    }\n",
       "\n",
       "    .dataframe tbody tr th {\n",
       "        vertical-align: top;\n",
       "    }\n",
       "\n",
       "    .dataframe thead th {\n",
       "        text-align: right;\n",
       "    }\n",
       "</style>\n",
       "<table border=\"1\" class=\"dataframe\">\n",
       "  <thead>\n",
       "    <tr style=\"text-align: right;\">\n",
       "      <th></th>\n",
       "      <th>user_id</th>\n",
       "      <th>timestamp</th>\n",
       "      <th>group</th>\n",
       "      <th>landing_page</th>\n",
       "      <th>converted</th>\n",
       "      <th>revenue</th>\n",
       "    </tr>\n",
       "  </thead>\n",
       "  <tbody>\n",
       "    <tr>\n",
       "      <th>0</th>\n",
       "      <td>851104</td>\n",
       "      <td>2017-01-21 22:11:48.556739</td>\n",
       "      <td>control</td>\n",
       "      <td>old_page</td>\n",
       "      <td>0</td>\n",
       "      <td>0</td>\n",
       "    </tr>\n",
       "    <tr>\n",
       "      <th>1</th>\n",
       "      <td>804228</td>\n",
       "      <td>2017-01-12 08:01:45.159739</td>\n",
       "      <td>control</td>\n",
       "      <td>old_page</td>\n",
       "      <td>0</td>\n",
       "      <td>0</td>\n",
       "    </tr>\n",
       "    <tr>\n",
       "      <th>2</th>\n",
       "      <td>661590</td>\n",
       "      <td>2017-01-11 16:55:06.154213</td>\n",
       "      <td>treatment</td>\n",
       "      <td>new_page</td>\n",
       "      <td>0</td>\n",
       "      <td>100</td>\n",
       "    </tr>\n",
       "  </tbody>\n",
       "</table>\n",
       "</div>"
      ],
      "text/plain": [
       "   user_id                   timestamp      group landing_page  converted  \\\n",
       "0   851104  2017-01-21 22:11:48.556739    control     old_page          0   \n",
       "1   804228  2017-01-12 08:01:45.159739    control     old_page          0   \n",
       "2   661590  2017-01-11 16:55:06.154213  treatment     new_page          0   \n",
       "\n",
       "   revenue  \n",
       "0        0  \n",
       "1        0  \n",
       "2      100  "
      ]
     },
     "execution_count": 2,
     "metadata": {},
     "output_type": "execute_result"
    }
   ],
   "source": [
    "df = pd.read_csv('ab_datas.csv')\n",
    "#df = df.loc[df['revenue']>0]\n",
    "df.head(3)"
   ]
  },
  {
   "cell_type": "code",
   "execution_count": 3,
   "metadata": {
    "colab": {
     "base_uri": "https://localhost:8080/"
    },
    "id": "jyudDfaq-ltY",
    "outputId": "c9435919-dbdf-4c45-d60b-dcb20a0f58f2"
   },
   "outputs": [
    {
     "name": "stdout",
     "output_type": "stream",
     "text": [
      "Число строк: [294478, 171478, 85615, 85863]\n"
     ]
    }
   ],
   "source": [
    "#количество посетителей всего\n",
    "n_rows = [df.shape[0], df.loc[df['revenue']>0].shape[0], df.loc[df['revenue']==100].shape[0], \n",
    "          df.loc[df['revenue']==250].shape[0]]\n",
    "print(\"Число строк: {}\".format(n_rows))"
   ]
  },
  {
   "cell_type": "code",
   "execution_count": 4,
   "metadata": {
    "colab": {
     "base_uri": "https://localhost:8080/"
    },
    "id": "WFa9Jd7--ltY",
    "outputId": "728d0f5c-949e-4d85-93cb-5d2a4810ae44"
   },
   "outputs": [
    {
     "name": "stdout",
     "output_type": "stream",
     "text": [
      "Число уникальных пользователей : 290584\n"
     ]
    }
   ],
   "source": [
    "# Сколько уникальных пользователей (уникальных `user_id`) в датасете?\n",
    "user_total = df.nunique()['user_id']\n",
    "print(\"Число уникальных пользователей : {}\".format(user_total))"
   ]
  },
  {
   "cell_type": "markdown",
   "metadata": {
    "collapsed": true,
    "id": "o3N6lGi5-ltY"
   },
   "source": [
    "Посетителей из контрольной `control` группы должны были направлять на страницу в старом дизайне  `old_page` , пользователей из тестовой группы `treatment` - на страницу в новом дизайне `new_page`. Проверим, были ли ошибки при направлении."
   ]
  },
  {
   "cell_type": "code",
   "execution_count": 5,
   "metadata": {
    "colab": {
     "base_uri": "https://localhost:8080/"
    },
    "id": "BmE8wUnS-ltY",
    "outputId": "d1f3bf07-dae9-4f5d-9d9f-c05f4caf75ff"
   },
   "outputs": [
    {
     "name": "stdout",
     "output_type": "stream",
     "text": [
      "Из тестовой группы неверно направлены 1965 пользователей\n",
      "Из контрольной группы неверно направлены  1928 пользователей\n"
     ]
    }
   ],
   "source": [
    "mismatch_1 = df.query(\"group == 'treatment' and landing_page == 'old_page'\")\n",
    "print(\"Из тестовой группы неверно направлены {}\".format(len(mismatch_1)) + \" пользователей\")\n",
    "\n",
    "mismatch_2 = df.query(\"group == 'control' and landing_page == 'new_page'\")\n",
    "print(\"Из контрольной группы неверно направлены  {}\".format(len(mismatch_2)) + \" пользователей\")\n"
   ]
  },
  {
   "cell_type": "code",
   "execution_count": 6,
   "metadata": {
    "colab": {
     "base_uri": "https://localhost:8080/"
    },
    "id": "HZeyu9Vg-ltZ",
    "outputId": "dd30978d-17ba-460a-b0d7-99d115ec0a68"
   },
   "outputs": [
    {
     "name": "stdout",
     "output_type": "stream",
     "text": [
      "<class 'pandas.core.frame.DataFrame'>\n",
      "RangeIndex: 294478 entries, 0 to 294477\n",
      "Data columns (total 6 columns):\n",
      " #   Column        Non-Null Count   Dtype \n",
      "---  ------        --------------   ----- \n",
      " 0   user_id       294478 non-null  int64 \n",
      " 1   timestamp     294478 non-null  object\n",
      " 2   group         294478 non-null  object\n",
      " 3   landing_page  294478 non-null  object\n",
      " 4   converted     294478 non-null  int64 \n",
      " 5   revenue       294478 non-null  int64 \n",
      "dtypes: int64(3), object(3)\n",
      "memory usage: 13.5+ MB\n"
     ]
    }
   ],
   "source": [
    "# пропуски\n",
    "df.info()"
   ]
  },
  {
   "cell_type": "code",
   "execution_count": 7,
   "metadata": {
    "colab": {
     "base_uri": "https://localhost:8080/"
    },
    "id": "p4Wtr0fr-ltZ",
    "outputId": "ec23a6bc-480f-45ed-a2a3-283acf734415"
   },
   "outputs": [
    {
     "name": "stdout",
     "output_type": "stream",
     "text": [
      "Конверсия по всем посетителям: 11.96591935560551 %\n"
     ]
    }
   ],
   "source": [
    "# Конверсия по всем посетителям\n",
    "p_all=df['converted'].mean()\n",
    "print(\"Конверсия по всем посетителям: {} %\".format(p_all*100))"
   ]
  },
  {
   "cell_type": "code",
   "execution_count": 8,
   "metadata": {
    "colab": {
     "base_uri": "https://localhost:8080/",
     "height": 173
    },
    "id": "cywgO088-ltZ",
    "outputId": "c8540ac3-b974-4552-e14b-5346f480e619"
   },
   "outputs": [
    {
     "data": {
      "text/html": [
       "<div>\n",
       "<style scoped>\n",
       "    .dataframe tbody tr th:only-of-type {\n",
       "        vertical-align: middle;\n",
       "    }\n",
       "\n",
       "    .dataframe tbody tr th {\n",
       "        vertical-align: top;\n",
       "    }\n",
       "\n",
       "    .dataframe thead tr th {\n",
       "        text-align: left;\n",
       "    }\n",
       "\n",
       "    .dataframe thead tr:last-of-type th {\n",
       "        text-align: right;\n",
       "    }\n",
       "</style>\n",
       "<table border=\"1\" class=\"dataframe\">\n",
       "  <thead>\n",
       "    <tr>\n",
       "      <th></th>\n",
       "      <th colspan=\"8\" halign=\"left\">user_id</th>\n",
       "      <th colspan=\"5\" halign=\"left\">converted</th>\n",
       "      <th colspan=\"8\" halign=\"left\">revenue</th>\n",
       "    </tr>\n",
       "    <tr>\n",
       "      <th></th>\n",
       "      <th>count</th>\n",
       "      <th>mean</th>\n",
       "      <th>std</th>\n",
       "      <th>min</th>\n",
       "      <th>25%</th>\n",
       "      <th>50%</th>\n",
       "      <th>75%</th>\n",
       "      <th>max</th>\n",
       "      <th>count</th>\n",
       "      <th>mean</th>\n",
       "      <th>...</th>\n",
       "      <th>75%</th>\n",
       "      <th>max</th>\n",
       "      <th>count</th>\n",
       "      <th>mean</th>\n",
       "      <th>std</th>\n",
       "      <th>min</th>\n",
       "      <th>25%</th>\n",
       "      <th>50%</th>\n",
       "      <th>75%</th>\n",
       "      <th>max</th>\n",
       "    </tr>\n",
       "    <tr>\n",
       "      <th>group</th>\n",
       "      <th></th>\n",
       "      <th></th>\n",
       "      <th></th>\n",
       "      <th></th>\n",
       "      <th></th>\n",
       "      <th></th>\n",
       "      <th></th>\n",
       "      <th></th>\n",
       "      <th></th>\n",
       "      <th></th>\n",
       "      <th></th>\n",
       "      <th></th>\n",
       "      <th></th>\n",
       "      <th></th>\n",
       "      <th></th>\n",
       "      <th></th>\n",
       "      <th></th>\n",
       "      <th></th>\n",
       "      <th></th>\n",
       "      <th></th>\n",
       "      <th></th>\n",
       "    </tr>\n",
       "  </thead>\n",
       "  <tbody>\n",
       "    <tr>\n",
       "      <th>control</th>\n",
       "      <td>147202.0</td>\n",
       "      <td>788123.098035</td>\n",
       "      <td>91278.896888</td>\n",
       "      <td>630002.0</td>\n",
       "      <td>709287.0</td>\n",
       "      <td>788053.5</td>\n",
       "      <td>867155.50</td>\n",
       "      <td>945998.0</td>\n",
       "      <td>147202.0</td>\n",
       "      <td>0.120399</td>\n",
       "      <td>...</td>\n",
       "      <td>0.0</td>\n",
       "      <td>1.0</td>\n",
       "      <td>147202.0</td>\n",
       "      <td>87.431896</td>\n",
       "      <td>102.424926</td>\n",
       "      <td>0.0</td>\n",
       "      <td>0.0</td>\n",
       "      <td>0.0</td>\n",
       "      <td>250.0</td>\n",
       "      <td>250.0</td>\n",
       "    </tr>\n",
       "    <tr>\n",
       "      <th>treatment</th>\n",
       "      <td>147276.0</td>\n",
       "      <td>787825.226283</td>\n",
       "      <td>91142.800641</td>\n",
       "      <td>630000.0</td>\n",
       "      <td>708729.5</td>\n",
       "      <td>787837.5</td>\n",
       "      <td>866693.75</td>\n",
       "      <td>945999.0</td>\n",
       "      <td>147276.0</td>\n",
       "      <td>0.118920</td>\n",
       "      <td>...</td>\n",
       "      <td>0.0</td>\n",
       "      <td>1.0</td>\n",
       "      <td>147276.0</td>\n",
       "      <td>116.496238</td>\n",
       "      <td>102.732069</td>\n",
       "      <td>0.0</td>\n",
       "      <td>0.0</td>\n",
       "      <td>100.0</td>\n",
       "      <td>250.0</td>\n",
       "      <td>250.0</td>\n",
       "    </tr>\n",
       "  </tbody>\n",
       "</table>\n",
       "<p>2 rows × 24 columns</p>\n",
       "</div>"
      ],
      "text/plain": [
       "            user_id                                                   \\\n",
       "              count           mean           std       min       25%   \n",
       "group                                                                  \n",
       "control    147202.0  788123.098035  91278.896888  630002.0  709287.0   \n",
       "treatment  147276.0  787825.226283  91142.800641  630000.0  708729.5   \n",
       "\n",
       "                                         converted            ...            \\\n",
       "                50%        75%       max     count      mean  ...  75%  max   \n",
       "group                                                         ...             \n",
       "control    788053.5  867155.50  945998.0  147202.0  0.120399  ...  0.0  1.0   \n",
       "treatment  787837.5  866693.75  945999.0  147276.0  0.118920  ...  0.0  1.0   \n",
       "\n",
       "            revenue                                                         \n",
       "              count        mean         std  min  25%    50%    75%    max  \n",
       "group                                                                       \n",
       "control    147202.0   87.431896  102.424926  0.0  0.0    0.0  250.0  250.0  \n",
       "treatment  147276.0  116.496238  102.732069  0.0  0.0  100.0  250.0  250.0  \n",
       "\n",
       "[2 rows x 24 columns]"
      ]
     },
     "execution_count": 8,
     "metadata": {},
     "output_type": "execute_result"
    }
   ],
   "source": [
    "df_grp = df.groupby('group')\n",
    "df_grp.describe()"
   ]
  },
  {
   "cell_type": "code",
   "execution_count": 9,
   "metadata": {
    "colab": {
     "base_uri": "https://localhost:8080/"
    },
    "id": "2q4mHg1y-lta",
    "outputId": "2f124504-d8f9-4178-cb6c-00aea14146a7"
   },
   "outputs": [
    {
     "name": "stdout",
     "output_type": "stream",
     "text": [
      "Соотношение размеров тестовой и контрольной групп: [74, 24676, 12547, 12129]\n",
      "Вероятность, что новый пользователь будет направлен на версию со старым дизайном: [0.5001256460584492, 0.5719509208178308, 0.5732757110319453, 0.5706299570245624]\n",
      "Вероятность, что новый пользователь будет направлен на версию с новым дизайном: [0.49987435394155083, 0.42804907918216917, 0.42672428896805464, 0.4293700429754376]\n"
     ]
    }
   ],
   "source": [
    "#объем тестовой группы для всех пользователей, \n",
    "#для пользователей совершивших покупку,\n",
    "#для пользователей совершивших покупку на сумму 100р, \n",
    "#для пользователей совершивших покупку на сумму 250р\n",
    "n_rows_treat = [len(df[df['group'] == 'treatment']), len(df[(df['group'] == 'treatment')&(df['revenue']>0)]),\n",
    "               len(df[(df['group'] == 'treatment')&(df['revenue']==100)]),\n",
    "               len(df[(df['group'] == 'treatment')&(df['revenue']==250)])]\n",
    "#[df.shape[0], df.loc[df['revenue']>0].shape[0], df.loc[df['revenue']==100].shape[0], \n",
    "#          df.loc[df['revenue']==250].shape[0]]\n",
    "#объем контрольной группы\n",
    "n_rows_contr =  [a_i - b_i for a_i, b_i in zip(n_rows, n_rows_treat)]\n",
    "\n",
    "print(\"Соотношение размеров тестовой и контрольной групп: {}\".format([a_i - b_i for a_i, b_i in zip(n_rows_treat,n_rows_contr)]))\n",
    "\n",
    "print(\"Вероятность, что новый пользователь будет направлен на версию со старым дизайном: {}\".format([a_i / b_i for a_i, b_i in zip(n_rows_treat,n_rows)]))\n",
    "print(\"Вероятность, что новый пользователь будет направлен на версию с новым дизайном: {}\".format([a_i / b_i for a_i, b_i in zip(n_rows_contr,n_rows)]))\n"
   ]
  },
  {
   "cell_type": "code",
   "execution_count": 10,
   "metadata": {},
   "outputs": [],
   "source": [
    "def conversion_calc(data):\n",
    "    # Конверсия по всем посетителям\n",
    "    p_all=data.loc[data['group'] == 'control','converted'].mean()\n",
    "    print(\"Конверсия по пользователям контрольной группы: {} %\".format(p_all*100))\n",
    "    p_all=data.loc[data['group'] == 'treatment','converted'].mean()\n",
    "    print(\"Конверсия по пользователям исследуемой группы: {} %\".format(p_all*100))\n",
    "\n",
    "    # с учетом неверно направленных\n",
    "    p_all=data.loc[(data[\"group\"] == 'control') & (data[\"landing_page\"] == 'old_page'),'converted'].mean()\n",
    "    print(\"Конверсия по пользователям направленным на старую версию сайта для контрольной группы: {} %\".format(p_all*100))\n",
    "    p_all=data.loc[(data[\"group\"] == 'treatment') & (data[\"landing_page\"] == 'new_page'),'converted'].mean()\n",
    "    print(\"Конверсия по пользователям направленным на новую версию сайта для исследуемой группы: {} %\".format(p_all*100))"
   ]
  },
  {
   "cell_type": "code",
   "execution_count": 11,
   "metadata": {},
   "outputs": [
    {
     "name": "stdout",
     "output_type": "stream",
     "text": [
      "Конверсия по пользователям контрольной группы: 12.039917935897611 %\n",
      "Конверсия по пользователям исследуемой группы: 11.891957956489856 %\n",
      "Конверсия по пользователям направленным на старую версию сайта для контрольной группы: 12.03863045004612 %\n",
      "Конверсия по пользователям направленным на новую версию сайта для исследуемой группы: 11.880724790277405 %\n"
     ]
    }
   ],
   "source": [
    "conversion_calc(df)"
   ]
  },
  {
   "cell_type": "markdown",
   "metadata": {
    "id": "ORB7gHw3-lta"
   },
   "source": [
    "Похоже конверсия для пользователей старой версии сайта больше, так что изменение версии сайта на первый взгляд не улучшило метрики даже с учетом неверно направленных."
   ]
  },
  {
   "cell_type": "code",
   "execution_count": 12,
   "metadata": {},
   "outputs": [
    {
     "name": "stdout",
     "output_type": "stream",
     "text": [
      "Конверсия по пользователям контрольной группы: 12.0175474448577 %\n",
      "Конверсия по пользователям исследуемой группы: 11.9263435871815 %\n",
      "Конверсия по пользователям направленным на старую версию сайта для контрольной группы: 12.038148868921922 %\n",
      "Конверсия по пользователям направленным на новую версию сайта для исследуемой группы: 11.911380240356298 %\n"
     ]
    }
   ],
   "source": [
    "# Конверсия по пользователям совершившим покупку \n",
    "conversion_calc(df.loc[df['revenue']>0])"
   ]
  },
  {
   "cell_type": "code",
   "execution_count": 13,
   "metadata": {},
   "outputs": [
    {
     "name": "stdout",
     "output_type": "stream",
     "text": [
      "Конверсия по пользователям контрольной группы: 12.08463349208956 %\n",
      "Конверсия по пользователям исследуемой группы: 11.786638414050243 %\n",
      "Конверсия по пользователям направленным на старую версию сайта для контрольной группы: 12.121296193541227 %\n",
      "Конверсия по пользователям направленным на новую версию сайта для исследуемой группы: 11.764220088778776 %\n"
     ]
    }
   ],
   "source": [
    "# Конверсия по пользователям совершившим покупку на 100р\n",
    "conversion_calc(df.loc[df['revenue']==100])"
   ]
  },
  {
   "cell_type": "code",
   "execution_count": 14,
   "metadata": {},
   "outputs": [
    {
     "name": "stdout",
     "output_type": "stream",
     "text": [
      "Конверсия по пользователям контрольной группы: 11.95106735020479 %\n",
      "Конверсия по пользователям исследуемой группы: 12.066291125806188 %\n",
      "Конверсия по пользователям направленным на старую версию сайта для контрольной группы: 11.955835095718092 %\n",
      "Конверсия по пользователям направленным на новую версию сайта для исследуемой группы: 12.058835698622202 %\n"
     ]
    }
   ],
   "source": [
    "# Конверсия по пользователям совершившим покупку на 250р\n",
    "conversion_calc(df.loc[df['revenue']==250])"
   ]
  },
  {
   "cell_type": "markdown",
   "metadata": {},
   "source": [
    "Только для пользователей совершивших покупку на сумму 250 конверсия исследуемой группы стала выше(пользователи нового сайта более склонны совершать покупки дороже??)"
   ]
  },
  {
   "cell_type": "markdown",
   "metadata": {
    "id": "63ZFf2FT-ltb"
   },
   "source": [
    "<a id='si1'></a>\n",
    "#### Формулировка рабочей гипотезы"
   ]
  },
  {
   "cell_type": "markdown",
   "metadata": {
    "id": "76-2Q9oh-ltb"
   },
   "source": [
    "Рабочая гипотеза в нашем случае может быть сформулирована, например, так: \"Конверсия сайта со старым дизайном не меньше, чем с новым\""
   ]
  },
  {
   "cell_type": "markdown",
   "metadata": {
    "id": "x4saRv3C-ltc"
   },
   "source": [
    "<a id='si4'></a>\n",
    "#### Проведение вычислений. $Z$-критерий."
   ]
  },
  {
   "cell_type": "code",
   "execution_count": 15,
   "metadata": {},
   "outputs": [],
   "source": [
    "def z_stat_calc(data, n_rows_treat, n_rows_contr):\n",
    "    convert_contr = sum(data.query(\"group == 'control'\")['converted'])\n",
    "    convert_treat = sum(data.query(\"group == 'treatment'\")['converted'])\n",
    "\n",
    "    z_score, p_value = sm.stats.proportions_ztest([convert_treat, convert_contr], [n_rows_treat, n_rows_contr], \n",
    "                                                  alternative='larger')\n",
    "\n",
    "    print(\"Z-статистика={},  p_value={}\".format(z_score, p_value))"
   ]
  },
  {
   "cell_type": "code",
   "execution_count": 16,
   "metadata": {
    "colab": {
     "base_uri": "https://localhost:8080/"
    },
    "id": "VpV4OkX2-ltc",
    "outputId": "cef54ff1-356e-4bc1-a3f0-eb14d4a1113c"
   },
   "outputs": [
    {
     "name": "stdout",
     "output_type": "stream",
     "text": [
      "Z-статистика=-1.2369217547321678,  p_value=0.8919419336512124\n",
      "Z-статистика=-0.5757759645661524,  p_value=0.7176166892124537\n",
      "Z-статистика=-1.331252331588953,  p_value=0.9084470013266968\n",
      "Z-статистика=0.5139770400702278,  p_value=0.30363402160314135\n"
     ]
    }
   ],
   "source": [
    "#Z-статистикапо группам пользователей: все, совершившие покупки, покупка на 100 и покупка на 250\n",
    "z_stat_calc(df, n_rows_treat[0], n_rows_contr[0])\n",
    "z_stat_calc(df.loc[df['revenue']>0], n_rows_treat[1], n_rows_contr[1])\n",
    "z_stat_calc(df.loc[df['revenue']==100], n_rows_treat[2], n_rows_contr[2])\n",
    "z_stat_calc(df.loc[df['revenue']==250], n_rows_treat[3], n_rows_contr[3])\n"
   ]
  },
  {
   "cell_type": "markdown",
   "metadata": {},
   "source": [
    "Для более дорогих покупок заметно явное улучшение для новой версии сайта. "
   ]
  },
  {
   "cell_type": "markdown",
   "metadata": {},
   "source": [
    "#### Проведение вычислений. $T$-test."
   ]
  },
  {
   "cell_type": "code",
   "execution_count": 17,
   "metadata": {},
   "outputs": [],
   "source": [
    "def t_test(data):\n",
    "    t_score, p_value, _ = statsmodels.stats.weightstats.ttest_ind(data.query(\"group == 'treatment'\")['converted'],\n",
    "                                                              data.query(\"group == 'control'\")['converted'],\n",
    "                                                              alternative=\"larger\",\n",
    "                                                              usevar='unequal')\n",
    "    print(\"T-статистика={},  p_value={}\".format(t_score, p_value))\n",
    "    "
   ]
  },
  {
   "cell_type": "code",
   "execution_count": 18,
   "metadata": {},
   "outputs": [
    {
     "name": "stdout",
     "output_type": "stream",
     "text": [
      "T-статистика=-1.2369191070650891,  p_value=0.8919409489056563\n",
      "T-статистика=-0.5755004064089811,  p_value=0.7175231318187278\n",
      "T-статистика=-1.3291460864668043,  p_value=0.9080981731234667\n",
      "T-статистика=0.5142724737930437,  p_value=0.30353146608204074\n"
     ]
    }
   ],
   "source": [
    "#T-статистика по группам пользователей: все, совершившие покупки, покупка на 100 и покупка на 250\n",
    "t_test(df)\n",
    "t_test(df.loc[df['revenue']>0])\n",
    "t_test(df.loc[df['revenue']==100])\n",
    "t_test(df.loc[df['revenue']==250])"
   ]
  },
  {
   "cell_type": "markdown",
   "metadata": {},
   "source": [
    "#### Проведение вычислений. $Mann–Whitney$-test."
   ]
  },
  {
   "cell_type": "code",
   "execution_count": 19,
   "metadata": {},
   "outputs": [],
   "source": [
    "def mann_test(data):\n",
    "    w_score, p_value = scipy.stats.mannwhitneyu(data.query(\"group == 'treatment'\")['converted'], \n",
    "                             data.query(\"group == 'control'\")['converted'],\n",
    "                             alternative=\"greater\")\n",
    "    print(\"W-статистика={},  p_value={}\".format(w_score, p_value))"
   ]
  },
  {
   "cell_type": "code",
   "execution_count": 20,
   "metadata": {},
   "outputs": [
    {
     "name": "stdout",
     "output_type": "stream",
     "text": [
      "W-статистика=10823622516.0,  p_value=0.8919415509213815\n",
      "W-статистика=3596192078.5,  p_value=0.7176161513900458\n",
      "W-статистика=893890914.5,  p_value=0.9084457636310145\n",
      "W-статистика=904208430.0,  p_value=0.3036351542273366\n"
     ]
    }
   ],
   "source": [
    "#W-статистика по группам пользователей: все, совершившие покупки, покупка на 100 и покупка на 250\n",
    "mann_test(df)\n",
    "mann_test(df.loc[df['revenue']>0])\n",
    "mann_test(df.loc[df['revenue']==100])\n",
    "mann_test(df.loc[df['revenue']==250])"
   ]
  },
  {
   "cell_type": "markdown",
   "metadata": {},
   "source": [
    "Для всех 3-х тестов p-value достаточно высок в случае обобщения всех данных - вероятность ошибки первого рода высока, следовательно сказать что старая версия сайта хуже новой можно только с очень высокой долей ошибок.\n",
    "\n",
    "Но для покупок с revenu 250 все значительно меняется, и новый сайт показывает лучшие характеристики."
   ]
  },
  {
   "cell_type": "markdown",
   "metadata": {},
   "source": [
    "## bootstrap  "
   ]
  },
  {
   "cell_type": "code",
   "execution_count": 21,
   "metadata": {},
   "outputs": [
    {
     "data": {
      "text/plain": [
       "<function matplotlib.pyplot.show(close=None, block=None)>"
      ]
     },
     "execution_count": 21,
     "metadata": {},
     "output_type": "execute_result"
    },
    {
     "data": {
      "image/png": "[encoded data removed]",
      "text/plain": [
       "<Figure size 864x504 with 4 Axes>"
      ]
     },
     "metadata": {
      "needs_background": "light"
     },
     "output_type": "display_data"
    }
   ],
   "source": [
    "fig, ((ax1, ax2), (ax3, ax4)) = plt.subplots(2, 2, figsize=(12,7))\n",
    "\n",
    "ax1.hist(df.loc[df['group']=='treatment', 'converted'])\n",
    "ax1.set_title('All users')\n",
    "ax2.hist(df.loc[(df['group']=='treatment')&(df['revenue']>0), 'converted'])\n",
    "ax2.set_title('revenue >0')\n",
    "ax3.hist(df.loc[(df['group']=='treatment')&(df['revenue']==100), 'converted'])\n",
    "ax3.set_title('revenue ==100')\n",
    "ax4.hist(df.loc[(df['group']=='treatment')&(df['revenue']==250), 'converted'])\n",
    "ax4.set_title('revenue ==250')\n",
    "plt.show"
   ]
  },
  {
   "cell_type": "code",
   "execution_count": 22,
   "metadata": {},
   "outputs": [
    {
     "data": {
      "text/plain": [
       "<function matplotlib.pyplot.show(close=None, block=None)>"
      ]
     },
     "execution_count": 22,
     "metadata": {},
     "output_type": "execute_result"
    },
    {
     "data": {
      "image/png": "[encoded data removed]",
      "text/plain": [
       "<Figure size 864x504 with 4 Axes>"
      ]
     },
     "metadata": {
      "needs_background": "light"
     },
     "output_type": "display_data"
    }
   ],
   "source": [
    "fig, ((ax1, ax2), (ax3, ax4)) = plt.subplots(2, 2, figsize=(12,7))\n",
    "\n",
    "ax1.hist(df.loc[df['group']=='control', 'converted'])\n",
    "ax1.set_title('All users')\n",
    "ax2.hist(df.loc[(df['group']=='control')&(df['revenue']>0), 'converted'])\n",
    "ax2.set_title('revenue >0')\n",
    "ax3.hist(df.loc[(df['group']=='control')&(df['revenue']==100), 'converted'])\n",
    "ax3.set_title('revenue ==100')\n",
    "ax4.hist(df.loc[(df['group']=='control')&(df['revenue']==250), 'converted'])\n",
    "ax4.set_title('revenue ==250')\n",
    "plt.show"
   ]
  },
  {
   "cell_type": "code",
   "execution_count": 23,
   "metadata": {},
   "outputs": [],
   "source": [
    "def calc_bost(data):\n",
    "    b = data.loc[data['group']=='treatment', 'converted'].values\n",
    "    a = data.loc[data['group']=='control', 'converted'].values\n",
    "    a_means = []\n",
    "    b_means = []\n",
    "\n",
    "    for i in range(10000):\n",
    "        a_boot = resample(a, replace=True, n_samples=len(a))\n",
    "        b_boot = resample(b, replace=True, n_samples=len(b))\n",
    "\n",
    "        a_means.append(a_boot.mean())\n",
    "        b_means.append(b_boot.mean())\n",
    "\n",
    "    a_means = np.array(a_means)\n",
    "    b_means = np.array(b_means)\n",
    "    plt.hist(a_means, label='A conv', alpha=0.5, bins=100)\n",
    "    plt.hist(b_means, label='B conv', alpha=0.5, bins=100)\n",
    "\n",
    "    plt.legend()\n",
    "    plt.show()\n",
    "    # доверительный интервал\n",
    "    print(f'доверительный интервал - {np.percentile(a_means, 2.5)}, {np.percentile(a_means, 97.5)}')\n",
    "\n",
    "    plt.hist(a_means - b_means, bins=100)\n",
    "    plt.show()\n",
    "    # сделаем оценку на p_value\n",
    "    dff = a_means - b_means\n",
    "\n",
    "    print(f'p_value - {len(dff[dff>=0])/len(dff)}')"
   ]
  },
  {
   "cell_type": "code",
   "execution_count": 24,
   "metadata": {},
   "outputs": [
    {
     "data": {
      "image/png": "[encoded data removed]",
      "text/plain": [
       "<Figure size 432x288 with 1 Axes>"
      ]
     },
     "metadata": {
      "needs_background": "light"
     },
     "output_type": "display_data"
    },
    {
     "name": "stdout",
     "output_type": "stream",
     "text": [
      "доверительный интервал - 0.11877556011467236, 0.12202959198923928\n"
     ]
    },
    {
     "data": {
      "image/png": "[encoded data removed]",
      "text/plain": [
       "<Figure size 432x288 with 1 Axes>"
      ]
     },
     "metadata": {
      "needs_background": "light"
     },
     "output_type": "display_data"
    },
    {
     "name": "stdout",
     "output_type": "stream",
     "text": [
      "p_value - 0.8872\n"
     ]
    }
   ],
   "source": [
    "# По всей выборке\n",
    "calc_bost(df)"
   ]
  },
  {
   "cell_type": "code",
   "execution_count": 25,
   "metadata": {},
   "outputs": [
    {
     "data": {
      "image/png": "[encoded data removed]",
      "text/plain": [
       "<Figure size 432x288 with 1 Axes>"
      ]
     },
     "metadata": {
      "needs_background": "light"
     },
     "output_type": "display_data"
    },
    {
     "name": "stdout",
     "output_type": "stream",
     "text": [
      "доверительный интервал - 0.11785908911322734, 0.12247789539652049\n"
     ]
    },
    {
     "data": {
      "image/png": "[encoded data removed]",
      "text/plain": [
       "<Figure size 432x288 with 1 Axes>"
      ]
     },
     "metadata": {
      "needs_background": "light"
     },
     "output_type": "display_data"
    },
    {
     "name": "stdout",
     "output_type": "stream",
     "text": [
      "p_value - 0.7291\n"
     ]
    }
   ],
   "source": [
    "#совершившие покупки\n",
    "calc_bost(df.loc[df['revenue']>0])"
   ]
  },
  {
   "cell_type": "code",
   "execution_count": 26,
   "metadata": {},
   "outputs": [
    {
     "data": {
      "image/png": "[encoded data removed]",
      "text/plain": [
       "<Figure size 432x288 with 1 Axes>"
      ]
     },
     "metadata": {
      "needs_background": "light"
     },
     "output_type": "display_data"
    },
    {
     "name": "stdout",
     "output_type": "stream",
     "text": [
      "доверительный интервал - 0.11750697979963869, 0.12418569004215252\n"
     ]
    },
    {
     "data": {
      "image/png": "[encoded data removed]",
      "text/plain": [
       "<Figure size 432x288 with 1 Axes>"
      ]
     },
     "metadata": {
      "needs_background": "light"
     },
     "output_type": "display_data"
    },
    {
     "name": "stdout",
     "output_type": "stream",
     "text": [
      "p_value - 0.9053\n"
     ]
    }
   ],
   "source": [
    "#покупка на 100\n",
    "calc_bost(df.loc[df['revenue']==100])"
   ]
  },
  {
   "cell_type": "code",
   "execution_count": 27,
   "metadata": {},
   "outputs": [
    {
     "data": {
      "image/png": "[encoded data removed]",
      "text/plain": [
       "<Figure size 432x288 with 1 Axes>"
      ]
     },
     "metadata": {
      "needs_background": "light"
     },
     "output_type": "display_data"
    },
    {
     "name": "stdout",
     "output_type": "stream",
     "text": [
      "доверительный интервал - 0.11625573005669027, 0.12290123959096211\n"
     ]
    },
    {
     "data": {
      "image/png": "[encoded data removed]",
      "text/plain": [
       "<Figure size 432x288 with 1 Axes>"
      ]
     },
     "metadata": {
      "needs_background": "light"
     },
     "output_type": "display_data"
    },
    {
     "name": "stdout",
     "output_type": "stream",
     "text": [
      "p_value - 0.3017\n"
     ]
    }
   ],
   "source": [
    "#покупка на 250\n",
    "calc_bost(df.loc[df['revenue']==250])"
   ]
  },
  {
   "cell_type": "markdown",
   "metadata": {},
   "source": [
    "А тут, очевидно, что новая версия сайта оказала существенное влияние на покупки по 100"
   ]
  }
 ],
 "metadata": {
  "kernelspec": {
   "display_name": "Python 3",
   "language": "python",
   "name": "python3"
  },
  "language_info": {
   "codemirror_mode": {
    "name": "ipython",
    "version": 3
   },
   "file_extension": ".py",
   "mimetype": "text/x-python",
   "name": "python",
   "nbconvert_exporter": "python",
   "pygments_lexer": "ipython3",
   "version": "3.8.8"
  }
 },
 "nbformat": 4,
 "nbformat_minor": 4
}
